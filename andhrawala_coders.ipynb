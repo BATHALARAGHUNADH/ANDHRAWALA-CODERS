{
  "nbformat": 4,
  "nbformat_minor": 0,
  "metadata": {
    "colab": {
      "provenance": [],
      "authorship_tag": "ABX9TyORFQkrmSkFX0jP2adKvHVk",
      "include_colab_link": true
    },
    "kernelspec": {
      "name": "python3",
      "display_name": "Python 3"
    },
    "language_info": {
      "name": "python"
    }
  },
  "cells": [
    {
      "cell_type": "markdown",
      "metadata": {
        "id": "view-in-github",
        "colab_type": "text"
      },
      "source": [
        "<a href=\"https://colab.research.google.com/github/BATHALARAGHUNADH/ANDHRAWALA-CODERS/blob/main/andhrawala_coders.ipynb\" target=\"_parent\"><img src=\"https://colab.research.google.com/assets/colab-badge.svg\" alt=\"Open In Colab\"/></a>"
      ]
    },
    {
      "cell_type": "code",
      "execution_count": null,
      "metadata": {
        "id": "8GXtnei5w9gh"
      },
      "outputs": [],
      "source": [
        "from nltk.chat.util import Chat, reflections\n",
        "\n",
        "pairs =[\n",
        "\t['my name is (.*)', ['Hello ! % 1']],\n",
        "\t['(hi|hello|hey|holla|hola)', ['Hey there !', 'Hi there !', 'Hey !']],\n",
        "\t['your name ?', ['My name is chatbot ']],\n",
        "  ['are you finding any college ?', ['kalsalingam university']],\n",
        "\t['do you do ?', [' i am in studying in kalasalingam university!']],\n",
        "\t['created you ?', ['ANDHRA WALA CODERS BY USING PYTHON']],\n",
        "  ['tell about your college ?', ['here it is good teaching and as well as good job opprtinuties']],\n",
        "  ['how your faculty intracting with you ?', ['they are treat like a friends']],\n",
        "  ['what about your college nature ?', ['it is a good vibing every season like a hill stations']],\n",
        "  ['your college provided any scholarship ?', ['yeah! it is based on your intermediate marks and also national level entrance exam like jee/neet/mains']],\n",
        "]\n",
        "\n",
        "chat = Chat(pairs, reflections)\n",
        "chat.converse()"
      ]
    }
  ]
}